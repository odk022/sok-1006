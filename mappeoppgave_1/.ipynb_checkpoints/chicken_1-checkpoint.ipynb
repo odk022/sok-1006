{
 "cells": [
  {
   "cell_type": "markdown",
   "id": "33e6ada7-f63e-4665-a7da-80c0da86ca4a",
   "metadata": {},
   "source": [
    "## Mappeoppgave 1:\n"
   ]
  },
  {
   "cell_type": "code",
   "execution_count": null,
   "id": "6cd8fd91-3467-46ad-923c-ecd89cd09897",
   "metadata": {},
   "outputs": [],
   "source": [
    "B:  Forklar likning (1) og (2)\n",
    "\n",
    "Se notat\n",
    "    "
   ]
  },
  {
   "cell_type": "markdown",
   "id": "e2e68b96-3477-4430-af20-05896e6f958d",
   "metadata": {},
   "source": [
    "Programmer ferdig denne pythonfila. Det som mangler er å\n",
    "\n",
    "programmere inn funksjonene (14). (15) og (16)\n",
    "å lage en funksjon som finner hvilket kvantum som gir likevekt (tilbud=etterspørsel)\n",
    "å plotte funksjonene.\n",
    "Hver av tilbud- og etterspørselsfunksjonene har argumentet c først. Dette argumentet kan enten være sp (sympy) for å regne ut likevekt, eller np (numpy) for å plotte funksjonene.\n",
    "\n",
    "I funksjonen equate_q skal du bruke sympy til å regne ut hvilket kvantum som gir likhet mellom etterspørsel og langsiktig tilbud. Bruk sp.Eq, og la første argument i funksjonene være sp.\n",
    "\n",
    "Når du skal plotte funksjonene, husk at\n",
    "\n",
    "funksjonene skal opphøyes i eksponenten (dvs. du bruker np.exp()) for å uttrykkes i nivå\n",
    "så skal de multipliseres med cpi\n",
    "første argument i tilbuds-/etterspørselsfunksjonene er np her, ikke sp"
   ]
  },
  {
   "cell_type": "code",
   "execution_count": null,
   "id": "5943d4f2-a0e2-40dd-9363-f5dc8fe1d754",
   "metadata": {},
   "outputs": [],
   "source": []
  },
  {
   "cell_type": "code",
   "execution_count": 24,
   "id": "a0ff7e83-2c6f-4906-953e-070bec97ff89",
   "metadata": {},
   "outputs": [],
   "source": [
    "import matplotlib.pyplot as plt\n",
    "import pandas as pd\n",
    "import sympy as sp\n",
    "import numpy as np\n",
    "\n",
    "#definerer symbolene vi skal bruke:\n",
    "Q,N,X,pf=sp.symbols('Q,N,X,pf')"
   ]
  },
  {
   "cell_type": "code",
   "execution_count": 25,
   "id": "274f4d01-80bf-441f-a484-0bd1cba80da5",
   "metadata": {},
   "outputs": [
    {
     "data": {
      "text/latex": [
       "$\\displaystyle - 5.03778337531486 Q + 0.566750629722922 pb + 2.11586901763224 y - 11.352644836272$"
      ],
      "text/plain": [
       "-5.03778337531486*Q + 0.566750629722922*pb + 2.11586901763224*y - 11.352644836272"
      ]
     },
     "execution_count": 25,
     "metadata": {},
     "output_type": "execute_result"
    }
   ],
   "source": [
    "def demand_curve(c,Q,y,pb):\n",
    "     return (2*Q + 4.507 - 0.84*y - 0.225*pb)/(-0.397)\n",
    "demand_curve(sp,Q,y,pb)\n",
    "   #Programmer ligning 14 her. Bruk c.log() for å regne ut logaritmen.  \n",
    "  #((c.log(Q))  "
   ]
  },
  {
   "cell_type": "code",
   "execution_count": 26,
   "id": "3d6f214f-9ebb-4f41-9c77-60974fcac22d",
   "metadata": {},
   "outputs": [
    {
     "ename": "NameError",
     "evalue": "name 't' is not defined",
     "output_type": "error",
     "traceback": [
      "\u001b[0;31m---------------------------------------------------------------------------\u001b[0m",
      "\u001b[0;31mNameError\u001b[0m                                 Traceback (most recent call last)",
      "Input \u001b[0;32mIn [26]\u001b[0m, in \u001b[0;36m<module>\u001b[0;34m\u001b[0m\n\u001b[1;32m      1\u001b[0m \u001b[38;5;28;01mdef\u001b[39;00m \u001b[38;5;21msupply_curve_long_run\u001b[39m(c,Q,N,X,pf,t):\n\u001b[1;32m      2\u001b[0m       \u001b[38;5;28;01mreturn\u001b[39;00m (\u001b[38;5;241m0.369\u001b[39m\u001b[38;5;241m*\u001b[39m(c\u001b[38;5;241m.\u001b[39mlog(N\u001b[38;5;241m*\u001b[39mQ\u001b[38;5;241m+\u001b[39mX))\u001b[38;5;241m-\u001b[39m\u001b[38;5;241m2.030\u001b[39m\u001b[38;5;241m+\u001b[39m\u001b[38;5;241m0.146\u001b[39m\u001b[38;5;241m*\u001b[39mpf\u001b[38;5;241m-\u001b[39m\u001b[38;5;241m0.0184\u001b[39m\u001b[38;5;241m*\u001b[39mt)\u001b[38;5;241m/\u001b[39m\u001b[38;5;241m0.221\u001b[39m\n\u001b[0;32m----> 3\u001b[0m supply_curve_long_run(sp,Q,N,X,pf,\u001b[43mt\u001b[49m)\n",
      "\u001b[0;31mNameError\u001b[0m: name 't' is not defined"
     ]
    }
   ],
   "source": [
    "def supply_curve_long_run(c,Q,N,X,pf,t):\n",
    "      return (0.369*(c.log(N*Q+X))-2.030+0.146*pf-0.0184*t)/0.221\n",
    "supply_curve_long_run(sp,Q,N,X,pf,t)\n",
    "\n",
    "#Programmer ligning 15 her. Bruk c.log() for å regne ut logaritmen."
   ]
  },
  {
   "cell_type": "code",
   "execution_count": 4,
   "id": "9cd59740-65af-4bbd-9b5f-bf467b145440",
   "metadata": {},
   "outputs": [
    {
     "ename": "NameError",
     "evalue": "name 'Q' is not defined",
     "output_type": "error",
     "traceback": [
      "\u001b[0;31m---------------------------------------------------------------------------\u001b[0m",
      "\u001b[0;31mNameError\u001b[0m                                 Traceback (most recent call last)",
      "Input \u001b[0;32mIn [4]\u001b[0m, in \u001b[0;36m<module>\u001b[0;34m\u001b[0m\n\u001b[1;32m      1\u001b[0m \u001b[38;5;28;01mdef\u001b[39;00m \u001b[38;5;21msupply_curve_short_run\u001b[39m(c,Q,N,X,pf,t,Q_fitted):\n\u001b[1;32m      2\u001b[0m     \u001b[38;5;28;01mreturn\u001b[39;00m ((c\u001b[38;5;241m.\u001b[39mlog(N\u001b[38;5;241m*\u001b[39mQ\u001b[38;5;241m+\u001b[39mX))\u001b[38;5;241m-\u001b[39m\u001b[38;5;241m2.030\u001b[39m\u001b[38;5;241m+\u001b[39m\u001b[38;5;241m0.146\u001b[39m\u001b[38;5;241m*\u001b[39mpf\u001b[38;5;241m-\u001b[39m\u001b[38;5;241m0.0184\u001b[39m\u001b[38;5;241m*\u001b[39mt\u001b[38;5;241m-\u001b[39m\u001b[38;5;241m0.631\u001b[39m\u001b[38;5;241m*\u001b[39m(N\u001b[38;5;241m*\u001b[39mQ_fitted\u001b[38;5;241m+\u001b[39mX))\u001b[38;5;241m/\u001b[39m\u001b[38;5;241m0.221\u001b[39m\n\u001b[0;32m----> 4\u001b[0m supply_curve_short_run(sp,\u001b[43mQ\u001b[49m,N,X,pf,t,Q_fitted)\n",
      "\u001b[0;31mNameError\u001b[0m: name 'Q' is not defined"
     ]
    }
   ],
   "source": [
    "def supply_curve_short_run(c,Q,N,X,pf,t,Q_fitted):\n",
    "    return ((c.log(N*Q+X))-2.030+0.146*pf-0.0184*t-0.631*(N*Q_fitted+X))/0.221\n",
    "    \n",
    "supply_curve_short_run(sp,Q,N,X,pf,t,Q_fitted)   \n",
    "    #Programmer ligning 16 her. Bruk c.log() for å regne ut logaritmen.\n",
    "\t#TIPS: qprod i ligningen er (N*Q_fitted+X) her. \n",
    "    \n"
   ]
  },
  {
   "cell_type": "code",
   "execution_count": null,
   "id": "0fe9a5ee-94be-4df1-b5e7-8a4fd7c09fe9",
   "metadata": {},
   "outputs": [],
   "source": []
  },
  {
   "cell_type": "code",
   "execution_count": 5,
   "id": "5679d123-f400-40b2-9564-ea2cb5dff103",
   "metadata": {},
   "outputs": [
    {
     "ename": "NameError",
     "evalue": "name 'y' is not defined",
     "output_type": "error",
     "traceback": [
      "\u001b[0;31m---------------------------------------------------------------------------\u001b[0m",
      "\u001b[0;31mNameError\u001b[0m                                 Traceback (most recent call last)",
      "Input \u001b[0;32mIn [5]\u001b[0m, in \u001b[0;36m<module>\u001b[0;34m\u001b[0m\n\u001b[1;32m      1\u001b[0m \u001b[38;5;28;01mdef\u001b[39;00m \u001b[38;5;21mequate_q\u001b[39m(y,pb,N,X,pf,t):\n\u001b[1;32m      2\u001b[0m     \u001b[38;5;28;01mreturn\u001b[39;00m sp\u001b[38;5;241m.\u001b[39mEq(demand_curve(sp,Q,y,pb),supply_curve_long_run(sp,Q,N,X,pf,t))\n\u001b[0;32m----> 4\u001b[0m equate_q(\u001b[43my\u001b[49m,pb,N,X,pf,t)\n",
      "\u001b[0;31mNameError\u001b[0m: name 'y' is not defined"
     ]
    }
   ],
   "source": [
    "def equate_q(y,pb,N,X,pf,t):\n",
    "    return sp.Eq(demand_curve(sp,Q,y,pb),supply_curve_long_run(sp,Q,N,X,pf,t))\n",
    "    \n",
    "equate_q(y,pb,N,X,pf,t) \n",
    "\n",
    "#Finn verdien for Q som gør at demand_curve og supply_curve_long_run returnerer samme verdi. \n",
    "    #Bruk sp.Eq, og la første argument i funksjonene over være sp\n",
    "    \n",
    "#return float(sol)\n",
    "             \n"
   ]
  },
  {
   "cell_type": "code",
   "execution_count": null,
   "id": "420477f2-5fcf-47d9-a1bf-834631cc0c3a",
   "metadata": {},
   "outputs": [
    {
     "name": "stderr",
     "output_type": "stream",
     "text": [
      "/usr/local/Miniconda3-py39_4.10.3-Linux-x86_64/lib/python3.9/site-packages/sympy/core/sympify.py:449: SymPyDeprecationWarning: \n",
      "\n",
      "String fallback in sympify has been deprecated since SymPy 1.6. Use\n",
      "sympify(str(obj)) or sympy.core.sympify.converter or obj._sympy_\n",
      "instead. See https://github.com/sympy/sympy/issues/18066 for more\n",
      "info.\n",
      "\n",
      "  SymPyDeprecationWarning(\n"
     ]
    }
   ],
   "source": [
    "# likevektskvantum\n",
    "q_eq_gen=sp.solve(equate_q,Q)[0]\n",
    "\n",
    "#sp.simplify(q_eq_gen)\n",
    "q_eq_gen"
   ]
  },
  {
   "cell_type": "code",
   "execution_count": 23,
   "id": "583f9216-2aa2-4c69-870e-ed6d8968b59c",
   "metadata": {},
   "outputs": [],
   "source": [
    "def plot_year(df,year):\n",
    "\n",
    "\n",
    "    #obtaining the relevant variables for year:\n",
    "    d=df[df['YEAR']==year].to_dict(orient='records')[0]\n",
    "    \n",
    "    cpi=d['CPI']\n",
    "    y=np.log(d['Y'])\n",
    "    pb=np.log(d['PBEEF']/cpi)\n",
    "    N=d['POP']\n",
    "    X=d['QPRODA']/1439-d['Q']*d['POP']\n",
    "    pf=np.log(d['PF']/cpi)\n",
    "    t=d['TIME']\n",
    "    \n",
    " \n",
    "    \n",
    "    #obtaining equilibrium quantity:\n",
    "    Q_fitted=equate_q(y,pb,N,X,pf,t) \n",
    "    \n",
    "\n",
    "    #plotting the functions:\n",
    "    \n",
    "    #plot alle tre funksjonene her. \n",
    "    #Husk at \n",
    "    #1. funksjonene skal opphøyes i eksponenten (dvs. du bruker np.exp(<funksjon>)) for å uttrykkes i nivå\n",
    "    #2. så skal de multipliseres med cpi\n",
    "    #3. første argument er np her, ikke sp. \n",
    "    \n",
    "    "
   ]
  },
  {
   "cell_type": "code",
   "execution_count": 22,
   "id": "9bd7fc82-701a-4457-bae2-be784e76ca38",
   "metadata": {},
   "outputs": [],
   "source": [
    "df=pd.read_csv(\"https://uit-sok-1006-v22.github.io/innleveringer/chickendata.csv\",delimiter=\";\")\n",
    "plot_year(df,1995)"
   ]
  },
  {
   "cell_type": "code",
   "execution_count": null,
   "id": "e647c803-09f8-4bab-a130-a08e75ebd85f",
   "metadata": {},
   "outputs": [],
   "source": []
  },
  {
   "cell_type": "code",
   "execution_count": null,
   "id": "37d60ed3-08cd-4404-95f4-c55c3daf3c2d",
   "metadata": {},
   "outputs": [],
   "source": []
  },
  {
   "cell_type": "code",
   "execution_count": null,
   "id": "c888cdf9-5266-417f-9a05-8ed767ba2044",
   "metadata": {},
   "outputs": [],
   "source": []
  },
  {
   "cell_type": "code",
   "execution_count": null,
   "id": "c99185e9-a263-47a4-be3e-15ac8615fd44",
   "metadata": {},
   "outputs": [],
   "source": []
  },
  {
   "cell_type": "code",
   "execution_count": null,
   "id": "2b0fc500-73e8-4b48-bcf0-edd3f3bedd53",
   "metadata": {},
   "outputs": [],
   "source": []
  },
  {
   "cell_type": "code",
   "execution_count": null,
   "id": "3989156c-9774-4191-aa20-86e254d89cc2",
   "metadata": {},
   "outputs": [],
   "source": []
  },
  {
   "cell_type": "code",
   "execution_count": null,
   "id": "6453a5e3-e2e1-4cf6-ad8d-4b4ccd33ce93",
   "metadata": {},
   "outputs": [],
   "source": []
  },
  {
   "cell_type": "code",
   "execution_count": null,
   "id": "10082c09-43da-4551-9bf8-8999b18ac7e8",
   "metadata": {},
   "outputs": [],
   "source": []
  },
  {
   "cell_type": "code",
   "execution_count": null,
   "id": "1be14c56-6595-461f-8ce9-72d5de4f2b6d",
   "metadata": {},
   "outputs": [],
   "source": []
  }
 ],
 "metadata": {
  "kernelspec": {
   "display_name": "Python 3 (ipykernel)",
   "language": "python",
   "name": "python3"
  },
  "language_info": {
   "codemirror_mode": {
    "name": "ipython",
    "version": 3
   },
   "file_extension": ".py",
   "mimetype": "text/x-python",
   "name": "python",
   "nbconvert_exporter": "python",
   "pygments_lexer": "ipython3",
   "version": "3.9.9"
  }
 },
 "nbformat": 4,
 "nbformat_minor": 5
}
